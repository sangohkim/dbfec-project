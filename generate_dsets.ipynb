{
 "cells": [
  {
   "cell_type": "code",
   "execution_count": 1,
   "metadata": {},
   "outputs": [],
   "source": [
    "import json\n",
    "from datetime import datetime"
   ]
  },
  {
   "cell_type": "code",
   "execution_count": 14,
   "metadata": {},
   "outputs": [],
   "source": [
    "def combine_unique_data():\n",
    "    raw_json_filenames = [\n",
    "        'Kickstarter_2016-01-28T09_15_08_781Z.json',\n",
    "        'Kickstarter_2017-01-15T22_21_04_985Z.json',\n",
    "        'Kickstarter_2018-01-12T10_20_09_196Z.json',\n",
    "        'Kickstarter_2019-01-17T03_20_02_630Z.json',\n",
    "        'Kickstarter_2020-01-16T03_20_15_556Z.json',\n",
    "        'Kickstarter_2021-01-14T03_20_05_328Z.json',\n",
    "        'Kickstarter_2022-01-20T03_20_11_451Z.json',\n",
    "        'Kickstarter_2023-01-05T03_20_04_136Z.json',\n",
    "        'Kickstarter_2024-01-15T14_13_05_649Z.json'\n",
    "    ]\n",
    "    rev_raw_json_filenames = list(reversed(raw_json_filenames))\n",
    "    ids = set()\n",
    "    file_cnt = 0\n",
    "    dst_path = './Kickstarter-raw-unique-total-json'\n",
    "    src_path = './kickstarter-raw-jsons'\n",
    "    with open(f'{dst_path}/kickstarter_unique_total.json', 'w') as output_file:\n",
    "        for raw_json in rev_raw_json_filenames:\n",
    "            with open(f'{src_path}/{raw_json}', 'r') as input_file:\n",
    "                json_str = input_file.readline()\n",
    "                while json_str:\n",
    "                    json_data = json.loads(json_str)['data']\n",
    "                    if not (json_data['id'] in ids):\n",
    "                        ids.add(json_data['id'])\n",
    "                        output_file.write(json_str)\n",
    "                        file_cnt += 1\n",
    "                    json_str = input_file.readline()\n",
    "    return file_cnt        \n",
    "        \n",
    "        "
   ]
  },
  {
   "cell_type": "code",
   "execution_count": 15,
   "metadata": {},
   "outputs": [
    {
     "name": "stdout",
     "output_type": "stream",
     "text": [
      "336036\n"
     ]
    }
   ],
   "source": [
    "total_files = combine_unique_data()\n",
    "print(total_files)"
   ]
  },
  {
   "cell_type": "code",
   "execution_count": 36,
   "metadata": {},
   "outputs": [],
   "source": [
    "def filter_1(json_data):\n",
    "    return (not ((float(json_data['goal']) <= float(json_data['usd_pledged'])) and json_data['state'] == 'failed')) and\\\n",
    "        (json_data['state'] == 'successful' or json_data['state'] == 'failed')\n",
    "\n",
    "\n",
    "def filter_2(json_data):\n",
    "    timestamp_20150101 = datetime(2015, 1, 1).timestamp()\n",
    "    return json_data['launched_at'] >= timestamp_20150101\n",
    "\n",
    "\n",
    "def filter_3(json_data):\n",
    "    return json_data['location']['country'] == 'US' and\\\n",
    "        json_data['currency'] == 'USD'\n",
    "\n",
    "def filter_4(json_data):\n",
    "    return (len(json_data['blurb'].split(' ')) >= 10)\\\n",
    "        and len(json_data['name']) > 0 and len(json_data['slug']) > 0 and len(json_data['creator']['name']) > 0"
   ]
  },
  {
   "cell_type": "code",
   "execution_count": 41,
   "metadata": {},
   "outputs": [],
   "source": [
    "def apply_filter():\n",
    "    src_path = './kickstarter-raw-unique-total-json/kickstarter_unique_total.json'\n",
    "    dst_path = './kickstarter-filtered-total-json/kickstarter_filtered_total.json'\n",
    "    file_cnt = 0\n",
    "    err_cnt = 0\n",
    "    with open(dst_path, 'w') as output_file:\n",
    "        with open(src_path, 'r') as input_file:\n",
    "            json_str = input_file.readline()\n",
    "            while json_str:\n",
    "                json_data = json.loads(json_str)['data']\n",
    "                try:\n",
    "                    if filter_1(json_data) and filter_2(json_data) and filter_3(json_data) and filter_4(json_data):\n",
    "                        output_file.write(f'{json_str}')\n",
    "                        file_cnt += 1\n",
    "                except:\n",
    "                    json_str = input_file.readline()\n",
    "                    err_cnt += 1\n",
    "                    continue\n",
    "                json_str = input_file.readline()\n",
    "    \n",
    "    return file_cnt, err_cnt"
   ]
  },
  {
   "cell_type": "code",
   "execution_count": 28,
   "metadata": {},
   "outputs": [
    {
     "name": "stdout",
     "output_type": "stream",
     "text": [
      "308422 933\n"
     ]
    }
   ],
   "source": [
    "applied_filter_1_cnt, err_cnt = apply_filter()\n",
    "print(applied_filter_1_cnt, err_cnt)"
   ]
  },
  {
   "cell_type": "code",
   "execution_count": 31,
   "metadata": {},
   "outputs": [
    {
     "name": "stdout",
     "output_type": "stream",
     "text": [
      "196996 933\n"
     ]
    }
   ],
   "source": [
    "applied_filter_12_cnt, err_cnt = apply_filter()\n",
    "print(applied_filter_12_cnt, err_cnt)"
   ]
  },
  {
   "cell_type": "code",
   "execution_count": 35,
   "metadata": {},
   "outputs": [
    {
     "name": "stdout",
     "output_type": "stream",
     "text": [
      "122503 933\n"
     ]
    }
   ],
   "source": [
    "applied_filter_123_cnt, err_cnt = apply_filter()\n",
    "print(applied_filter_123_cnt, err_cnt)"
   ]
  },
  {
   "cell_type": "code",
   "execution_count": 38,
   "metadata": {},
   "outputs": [
    {
     "name": "stdout",
     "output_type": "stream",
     "text": [
      "110074 933\n"
     ]
    }
   ],
   "source": [
    "applied_filter_1234_cnt, err_cnt = apply_filter()\n",
    "print(applied_filter_1234_cnt, err_cnt)"
   ]
  },
  {
   "cell_type": "code",
   "execution_count": 42,
   "metadata": {},
   "outputs": [
    {
     "data": {
      "text/plain": [
       "(110074, 933)"
      ]
     },
     "execution_count": 42,
     "metadata": {},
     "output_type": "execute_result"
    }
   ],
   "source": [
    "apply_filter()"
   ]
  },
  {
   "cell_type": "code",
   "execution_count": null,
   "metadata": {},
   "outputs": [],
   "source": [
    "def generate_year():\n",
    "    src_path = './kickstarter-filtered-total-json'\n",
    "    dst_base_path = './kickstarter-filtered-yr-json'\n",
    "    "
   ]
  },
  {
   "cell_type": "code",
   "execution_count": 24,
   "metadata": {},
   "outputs": [],
   "source": [
    "timestamp_20150101 = datetime(2015, 1, 1).timestamp()\n",
    "\n",
    "def filter_condition(json_data, timestamp):\n",
    "    '''\n",
    "    1. 프로젝트 상태가 성공 또는 실패인가, 모금액을 달성하였으나 다른 사유로 인해 실패한 프로젝트 제외\n",
    "    2. 2015.01.01 이후에 모금이 시작되었고\n",
    "    3. 미국에서 진행된 프로젝트 인지\n",
    "    4. 우리가 사용할 feature가 있는가\n",
    "    '''\n",
    "    return json_data['location']['country'] == 'US'\\\n",
    "        and (timestamp - int(json_data['deadline']) >= 0)\\\n",
    "        and (json_data['state'] == 'failed' or json_data['state'] == 'successful')\\\n",
    "        and (int(json_data['launched_at']) > 0)\\\n",
    "        and (not (float(json_data['usd_pledged']) >= int(json_data['goal']) and json_data['state'] == 'failed'))\\\n",
    "        and (json_data['currency'] == 'USD')\\\n",
    "        and (len(json_data['blurb'].split(' ')) >= 10)\\\n",
    "        and len(json_data['name']) > 0 and len(json_data['slug']) > 0 and len(json_data['creator']['name']) > 0\\\n",
    "        and int(json_data['created_at']) >= timestamp_20150101"
   ]
  },
  {
   "cell_type": "code",
   "execution_count": 25,
   "metadata": {},
   "outputs": [],
   "source": [
    "# 모든 년도를 포함한 json dataset 생성\n",
    "def generate_total_dataset():\n",
    "    raw_json_filenames = [\n",
    "        'Kickstarter_2016-01-28T09_15_08_781Z.json',\n",
    "        'Kickstarter_2017-01-15T22_21_04_985Z.json',\n",
    "        'Kickstarter_2018-01-12T10_20_09_196Z.json',\n",
    "        'Kickstarter_2019-01-17T03_20_02_630Z.json',\n",
    "        'Kickstarter_2020-01-16T03_20_15_556Z.json',\n",
    "        'Kickstarter_2021-01-14T03_20_05_328Z.json',\n",
    "        'Kickstarter_2022-01-20T03_20_11_451Z.json',\n",
    "        'Kickstarter_2023-01-05T03_20_04_136Z.json',\n",
    "        'Kickstarter_2024-01-15T14_13_05_649Z.json'\n",
    "    ]\n",
    "    scraped_unix_timestamps = [\n",
    "        datetime(2016, 1, 28).timestamp(),\n",
    "        datetime(2017, 1, 15).timestamp(),\n",
    "        datetime(2018, 1, 12).timestamp(),\n",
    "        datetime(2019, 1, 17).timestamp(),\n",
    "        datetime(2020, 1, 16).timestamp(),\n",
    "        datetime(2021, 1, 14).timestamp(),\n",
    "        datetime(2022, 1, 20).timestamp(),\n",
    "        datetime(2023, 1, 5).timestamp(),\n",
    "        datetime(2024, 1, 15).timestamp(),\n",
    "    ]\n",
    "    ids = set()  # 동일한 프로젝트 중복을 방지하기 위한 id\n",
    "    input_base_path = './kickstarter-raw-jsons'\n",
    "    output_file_path = './kickstarter-filtered-total-json/kickstarter-onlydata-20150101-20240101.json'\n",
    "    \n",
    "    with open(output_file_path, 'w') as output_file:\n",
    "        output_file.write('[\\n')\n",
    "        for file_idx, raw_json_filename in enumerate(raw_json_filenames, 0):\n",
    "            input_file_path = f'{input_base_path}/{raw_json_filename}'\n",
    "\n",
    "            error_samples = 0\n",
    "            filtered_samples = 0\n",
    "            pass_cnt = 0\n",
    "\n",
    "            with open(input_file_path, 'r') as input_file:\n",
    "                json_str = input_file.readline()\n",
    "                while json_str:\n",
    "                    json_data = json.loads(json_str.strip())['data']\n",
    "                    try:\n",
    "                        if filter_condition(json_data, scraped_unix_timestamps[file_idx]) and (not (json_data['id'] in ids)):\n",
    "                            output_file.write(f'{json.dumps(json_data)},\\n')\n",
    "                            ids.add(json_data['id'])\n",
    "                            pass_cnt += 1\n",
    "                        else:\n",
    "                            filtered_samples += 1\n",
    "                    except KeyError as e:\n",
    "                        error_samples += 1\n",
    "                    json_str = input_file.readline()\n",
    "            print(f'{input_file_path}: filtered={filtered_samples}, error={error_samples}, passed={pass_cnt}')\n",
    "    output_file.write(']\\n')\n",
    "    print(f'total={len(ids)}')\n"
   ]
  },
  {
   "cell_type": "code",
   "execution_count": 26,
   "metadata": {},
   "outputs": [
    {
     "name": "stdout",
     "output_type": "stream",
     "text": [
      "./kickstarter-raw-jsons/Kickstarter_2016-01-28T09_15_08_781Z.json: filtered=120654, error=690, passed=26085\n",
      "./kickstarter-raw-jsons/Kickstarter_2017-01-15T22_21_04_985Z.json: filtered=151919, error=649, passed=20324\n",
      "./kickstarter-raw-jsons/Kickstarter_2018-01-12T10_20_09_196Z.json: filtered=183177, error=1364, passed=12251\n",
      "./kickstarter-raw-jsons/Kickstarter_2019-01-17T03_20_02_630Z.json: filtered=187928, error=226, passed=19694\n",
      "./kickstarter-raw-jsons/Kickstarter_2020-01-16T03_20_15_556Z.json: filtered=199137, error=195, passed=11939\n",
      "./kickstarter-raw-jsons/Kickstarter_2021-01-14T03_20_05_328Z.json: filtered=211058, error=215, passed=10007\n",
      "./kickstarter-raw-jsons/Kickstarter_2022-01-20T03_20_11_451Z.json: filtered=28074, error=41, passed=1998\n",
      "./kickstarter-raw-jsons/Kickstarter_2023-01-05T03_20_04_136Z.json: filtered=7180, error=8, passed=244\n",
      "./kickstarter-raw-jsons/Kickstarter_2024-01-15T14_13_05_649Z.json: filtered=23169, error=40, passed=2748\n",
      "total=105290\n"
     ]
    }
   ],
   "source": [
    "generate_total_dataset()"
   ]
  },
  {
   "cell_type": "code",
   "execution_count": 11,
   "metadata": {},
   "outputs": [],
   "source": [
    "def generate_yr(start_yr, start_mn, start_dy, end_yr, end_mn, end_dy):\n",
    "    start_ts = datetime(start_yr, start_mn, start_dy).timestamp()\n",
    "    end_ts = datetime(end_yr, end_mn, end_dy).timestamp()\n",
    "    target_file_path = './kickstarter-filtered-total-json/kickstarter_filtered_total.json'\n",
    "    output_base_path = './kickstarter-filtered-yr-json'\n",
    "    total_cnt = 0\n",
    "\n",
    "    with open(f'{output_base_path}/kickstarter-onlydata-{start_yr}-{start_mn}-{start_dy}-{end_yr}-{end_mn}-{end_dy}.json', 'w') as output_file:\n",
    "        output_file.write('[\\n')\n",
    "        with open(target_file_path, 'r') as target_file:\n",
    "            json_str = target_file.readline()\n",
    "            while json_str:\n",
    "                json_data = json.loads(json_str.strip())['data']\n",
    "                if start_ts <= json_data['launched_at'] < end_ts:\n",
    "                    output_file.write(f'{json.dumps(json_data)},\\n')\n",
    "                    total_cnt += 1\n",
    "                json_str = target_file.readline()\n",
    "        output_file.write(']\\n')\n",
    "    \n",
    "    print(f'total: {total_cnt}')\n"
   ]
  },
  {
   "cell_type": "code",
   "execution_count": 12,
   "metadata": {},
   "outputs": [
    {
     "name": "stdout",
     "output_type": "stream",
     "text": [
      "total: 31352\n",
      "total: 21117\n",
      "total: 15660\n",
      "total: 15196\n",
      "total: 12123\n",
      "total: 9688\n",
      "total: 1966\n",
      "total: 1026\n",
      "total: 1945\n"
     ]
    }
   ],
   "source": [
    "for yr in range(2015, 2024):\n",
    "    generate_yr(yr, 1, 1, yr + 1, 1, 1)"
   ]
  },
  {
   "cell_type": "code",
   "execution_count": 34,
   "metadata": {},
   "outputs": [],
   "source": [
    "def check_datasets(start_yr, start_mn, start_dy, end_yr, end_mn, end_dy):\n",
    "    start_ts = datetime(start_yr, start_mn, start_dy).timestamp()\n",
    "    end_ts = datetime(end_yr, end_mn, end_dy).timestamp()\n",
    "    target_file_path = './kickstarter-filtered-total-json/kickstarter_filtered_total.json'\n",
    "    output_base_path = './kickstarter-filtered-yr-json'\n",
    "    total_cnt = 0\n",
    "    total_cnt2 = 0\n",
    "    error_cnt = 0\n",
    "\n",
    "    with open(target_file_path, 'r') as target_file:\n",
    "        json_str = target_file.readline()\n",
    "        while json_str:\n",
    "            json_data = json.loads(json_str.strip())['data']\n",
    "            try:\n",
    "                if json_data['category']['name'] == None:\n",
    "                    total_cnt += 1\n",
    "                else:\n",
    "                    total_cnt2 += 1\n",
    "                    # print(f'{json_data['creator']['is_email_verified']}')\n",
    "            except:\n",
    "                error_cnt += 1\n",
    "            json_str = target_file.readline()\n",
    "    \n",
    "    print(f'total: {total_cnt}, {total_cnt2},  error: {error_cnt}')"
   ]
  },
  {
   "cell_type": "code",
   "execution_count": 35,
   "metadata": {},
   "outputs": [
    {
     "name": "stdout",
     "output_type": "stream",
     "text": [
      "total: 0, 110074,  error: 0\n"
     ]
    }
   ],
   "source": [
    "check_datasets(yr, 1, 1, yr + 1, 1, 1)"
   ]
  },
  {
   "cell_type": "code",
   "execution_count": 3,
   "metadata": {},
   "outputs": [
    {
     "name": "stdout",
     "output_type": "stream",
     "text": [
      "31352\n",
      "1147784855\n"
     ]
    }
   ],
   "source": [
    "file_path = './kickstarter-filtered-yr-json/kickstarter-onlydata-2015-1-1-2016-1-1.json'\n",
    "\n",
    "with open(file_path, 'r') as fp:\n",
    "    json_data = json.load(fp)\n",
    "    print(len(json_data))\n",
    "    print(f'{json_data[0]['id']}')"
   ]
  }
 ],
 "metadata": {
  "kernelspec": {
   "display_name": "Python 3",
   "language": "python",
   "name": "python3"
  },
  "language_info": {
   "codemirror_mode": {
    "name": "ipython",
    "version": 3
   },
   "file_extension": ".py",
   "mimetype": "text/x-python",
   "name": "python",
   "nbconvert_exporter": "python",
   "pygments_lexer": "ipython3",
   "version": "3.12.1"
  }
 },
 "nbformat": 4,
 "nbformat_minor": 2
}
