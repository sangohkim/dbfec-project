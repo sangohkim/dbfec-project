{
 "cells": [
  {
   "cell_type": "code",
   "execution_count": 2,
   "metadata": {},
   "outputs": [],
   "source": [
    "import json\n",
    "from datetime import datetime"
   ]
  },
  {
   "cell_type": "code",
   "execution_count": 24,
   "metadata": {},
   "outputs": [],
   "source": [
    "timestamp_20150101 = datetime(2015, 1, 1).timestamp()\n",
    "\n",
    "def filter_condition(json_data, timestamp):\n",
    "    return json_data['location']['country'] == 'US'\\\n",
    "        and (timestamp - int(json_data['deadline']) >= 0)\\\n",
    "        and (json_data['state'] == 'failed' or json_data['state'] == 'successful')\\\n",
    "        and (int(json_data['launched_at']) > 0)\\\n",
    "        and (not (float(json_data['usd_pledged']) >= int(json_data['goal']) and json_data['state'] == 'failed'))\\\n",
    "        and (json_data['currency'] == 'USD')\\\n",
    "        and (len(json_data['blurb'].split(' ')) >= 10)\\\n",
    "        and len(json_data['name']) > 0 and len(json_data['slug']) > 0 and len(json_data['creator']['name']) > 0\\\n",
    "        and int(json_data['created_at']) >= timestamp_20150101"
   ]
  },
  {
   "cell_type": "code",
   "execution_count": 25,
   "metadata": {},
   "outputs": [],
   "source": [
    "# 모든 년도를 포함한 json dataset 생성\n",
    "def generate_total_dataset():\n",
    "    raw_json_filenames = [\n",
    "        'Kickstarter_2016-01-28T09_15_08_781Z.json',\n",
    "        'Kickstarter_2017-01-15T22_21_04_985Z.json',\n",
    "        'Kickstarter_2018-01-12T10_20_09_196Z.json',\n",
    "        'Kickstarter_2019-01-17T03_20_02_630Z.json',\n",
    "        'Kickstarter_2020-01-16T03_20_15_556Z.json',\n",
    "        'Kickstarter_2021-01-14T03_20_05_328Z.json',\n",
    "        'Kickstarter_2022-01-20T03_20_11_451Z.json',\n",
    "        'Kickstarter_2023-01-05T03_20_04_136Z.json',\n",
    "        'Kickstarter_2024-01-15T14_13_05_649Z.json'\n",
    "    ]\n",
    "    scraped_unix_timestamps = [\n",
    "        datetime(2016, 1, 28).timestamp(),\n",
    "        datetime(2017, 1, 15).timestamp(),\n",
    "        datetime(2018, 1, 12).timestamp(),\n",
    "        datetime(2019, 1, 17).timestamp(),\n",
    "        datetime(2020, 1, 16).timestamp(),\n",
    "        datetime(2021, 1, 14).timestamp(),\n",
    "        datetime(2022, 1, 20).timestamp(),\n",
    "        datetime(2023, 1, 5).timestamp(),\n",
    "        datetime(2024, 1, 15).timestamp(),\n",
    "    ]\n",
    "    ids = set()  # 동일한 프로젝트 중복을 방지하기 위한 id\n",
    "    input_base_path = './kickstarter-raw-jsons'\n",
    "    output_file_path = './kickstarter-filtered-total-json/kickstarter-20150101-20240101.json'\n",
    "    \n",
    "    with open(output_file_path, 'w') as output_file:\n",
    "        for file_idx, raw_json_filename in enumerate(raw_json_filenames, 0):\n",
    "            input_file_path = f'{input_base_path}/{raw_json_filename}'\n",
    "\n",
    "            error_samples = 0\n",
    "            filtered_samples = 0\n",
    "            pass_cnt = 0\n",
    "\n",
    "            with open(input_file_path, 'r') as input_file:\n",
    "                json_str = input_file.readline()\n",
    "                while json_str:\n",
    "                    json_data = json.loads(json_str.strip())['data']\n",
    "                    try:\n",
    "                        if filter_condition(json_data, scraped_unix_timestamps[file_idx]) and (not (json_data['id'] in ids)):\n",
    "                            output_file.write(f'{json_str}')\n",
    "                            ids.add(json_data['id'])\n",
    "                            pass_cnt += 1\n",
    "                        else:\n",
    "                            filtered_samples += 1\n",
    "                    except KeyError as e:\n",
    "                        error_samples += 1\n",
    "                    json_str = input_file.readline()\n",
    "            print(f'{input_file_path}: filtered={filtered_samples}, error={error_samples}, passed={pass_cnt}')\n",
    "    print(f'total={len(ids)}')\n"
   ]
  },
  {
   "cell_type": "code",
   "execution_count": 26,
   "metadata": {},
   "outputs": [
    {
     "name": "stdout",
     "output_type": "stream",
     "text": [
      "./kickstarter-raw-jsons/Kickstarter_2016-01-28T09_15_08_781Z.json: filtered=120654, error=690, passed=26085\n",
      "./kickstarter-raw-jsons/Kickstarter_2017-01-15T22_21_04_985Z.json: filtered=151919, error=649, passed=20324\n",
      "./kickstarter-raw-jsons/Kickstarter_2018-01-12T10_20_09_196Z.json: filtered=183177, error=1364, passed=12251\n",
      "./kickstarter-raw-jsons/Kickstarter_2019-01-17T03_20_02_630Z.json: filtered=187928, error=226, passed=19694\n",
      "./kickstarter-raw-jsons/Kickstarter_2020-01-16T03_20_15_556Z.json: filtered=199137, error=195, passed=11939\n",
      "./kickstarter-raw-jsons/Kickstarter_2021-01-14T03_20_05_328Z.json: filtered=211058, error=215, passed=10007\n",
      "./kickstarter-raw-jsons/Kickstarter_2022-01-20T03_20_11_451Z.json: filtered=28074, error=41, passed=1998\n",
      "./kickstarter-raw-jsons/Kickstarter_2023-01-05T03_20_04_136Z.json: filtered=7180, error=8, passed=244\n",
      "./kickstarter-raw-jsons/Kickstarter_2024-01-15T14_13_05_649Z.json: filtered=23169, error=40, passed=2748\n",
      "total=105290\n"
     ]
    }
   ],
   "source": [
    "generate_total_dataset()"
   ]
  },
  {
   "cell_type": "code",
   "execution_count": 28,
   "metadata": {},
   "outputs": [],
   "source": [
    "def generate_yr(start_yr, start_mn, start_dy, end_yr, end_mn, end_dy):\n",
    "    start_ts = datetime(start_yr, start_mn, start_dy).timestamp()\n",
    "    end_ts = datetime(end_yr, end_mn, end_dy).timestamp()\n",
    "    target_file_path = './kickstarter-filtered-total-json/kickstarter-20150101-20240101.json'\n",
    "    output_base_path = './kickstarter-filtered-yr-json'\n",
    "    total_cnt = 0\n",
    "\n",
    "    with open(f'{output_base_path}/kickstarter-{start_yr}-{start_mn}-{start_dy}-{end_yr}={end_mn}={end_dy}.json', 'w') as output_file:\n",
    "        with open(target_file_path, 'r') as target_file:\n",
    "            json_str = target_file.readline()\n",
    "            while json_str:\n",
    "                json_data = json.loads(json_str.strip())['data']\n",
    "                if start_ts <= json_data['created_at'] < end_ts:\n",
    "                    output_file.write(f'{json_str.strip()}')\n",
    "                    total_cnt += 1\n",
    "                json_str = target_file.readline()\n",
    "    \n",
    "    print(f'total: {total_cnt}')\n"
   ]
  },
  {
   "cell_type": "code",
   "execution_count": 29,
   "metadata": {},
   "outputs": [
    {
     "name": "stdout",
     "output_type": "stream",
     "text": [
      "total: 29800\n",
      "total: 20113\n",
      "total: 15761\n",
      "total: 14660\n",
      "total: 11553\n",
      "total: 8842\n",
      "total: 1762\n",
      "total: 1169\n",
      "total: 1630\n"
     ]
    }
   ],
   "source": [
    "for yr in range(2015, 2024):\n",
    "    generate_yr(yr, 1, 1, yr + 1, 1, 1)"
   ]
  }
 ],
 "metadata": {
  "kernelspec": {
   "display_name": "Python 3",
   "language": "python",
   "name": "python3"
  },
  "language_info": {
   "codemirror_mode": {
    "name": "ipython",
    "version": 3
   },
   "file_extension": ".py",
   "mimetype": "text/x-python",
   "name": "python",
   "nbconvert_exporter": "python",
   "pygments_lexer": "ipython3",
   "version": "3.12.1"
  }
 },
 "nbformat": 4,
 "nbformat_minor": 2
}
